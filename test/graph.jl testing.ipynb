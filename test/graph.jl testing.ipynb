{
 "metadata": {
  "language": "Julia",
  "name": "",
  "signature": "sha256:ab50e9394a9fd48c3c70dc54cf636708cc0a64d1ed5a47a58c37e944854c214b"
 },
 "nbformat": 3,
 "nbformat_minor": 0,
 "worksheets": [
  {
   "cells": [
    {
     "cell_type": "code",
     "collapsed": false,
     "input": [
      "using GraphViz\n",
      "Graph(\"\"\"\n",
      "graph graphname {\n",
      "     // The label attribute can be used to change the label of a node\n",
      "     a [label=\"Foo\"];\n",
      "     // Here, the node shape is changed.\n",
      "     b [shape=box];\n",
      "     // These edges both have different line properties\n",
      "     a -- b -- c [color=blue];\n",
      "     b -- d [style=dotted];\n",
      " }\n",
      "\"\"\")"
     ],
     "language": "python",
     "metadata": {},
     "outputs": [
      {
       "metadata": {},
       "output_type": "pyout",
       "png": "[encoded data removed]",
       "prompt_number": 1,
       "svg": [
        "<?xml version=\"1.0\" encoding=\"UTF-8\" standalone=\"no\"?>\n",
        "<!DOCTYPE svg PUBLIC \"-//W3C//DTD SVG 1.1//EN\"\n",
        " \"http://www.w3.org/Graphics/SVG/1.1/DTD/svg11.dtd\">\n",
        "<!-- Generated by graphviz version 2.38.0 (20140413.2041)\n",
        " -->\n",
        "<!-- Title: graphname Pages: 1 -->\n",
        "<svg width=\"184pt\" height=\"176pt\"\n",
        " viewBox=\"0.00 0.00 184.31 176.18\" xmlns=\"http://www.w3.org/2000/svg\" xmlns:xlink=\"http://www.w3.org/1999/xlink\">\n",
        "<g id=\"graph0\" class=\"graph\" transform=\"scale(1 1) rotate(0) translate(107.053 92.85)\">\n",
        "<title>graphname</title>\n",
        "<polygon fill=\"white\" stroke=\"none\" points=\"-107.053,83.3315 -107.053,-92.85 77.2538,-92.85 77.2538,83.3315 -107.053,83.3315\"/>\n",
        "<!-- a -->\n",
        "<g id=\"node1\" class=\"node\"><title>a</title>\n",
        "<ellipse fill=\"none\" stroke=\"black\" cx=\"-76.0525\" cy=\"9.52734\" rx=\"27\" ry=\"18\"/>\n",
        "<text text-anchor=\"middle\" x=\"-76.0525\" y=\"13.2273\" font-family=\"Times,serif\" font-size=\"14.00\">Foo</text>\n",
        "</g>\n",
        "<!-- b -->\n",
        "<g id=\"node2\" class=\"node\"><title>b</title>\n",
        "<polygon fill=\"none\" stroke=\"black\" points=\"27.1368,-18.0088 -26.8632,-18.0088 -26.8632,17.9912 27.1368,17.9912 27.1368,-18.0088\"/>\n",
        "<text text-anchor=\"middle\" x=\"0.136761\" y=\"3.69119\" font-family=\"Times,serif\" font-size=\"14.00\">b</text>\n",
        "</g>\n",
        "<!-- a&#45;&#45;b -->\n",
        "<g id=\"edge1\" class=\"edge\"><title>a&#45;&#45;b</title>\n",
        "<path fill=\"none\" stroke=\"blue\" d=\"M-49.4052,6.19206C-42.1102,5.27899 -34.1978,4.28864 -26.8822,3.373\"/>\n",
        "</g>\n",
        "<!-- c -->\n",
        "<g id=\"node3\" class=\"node\"><title>c</title>\n",
        "<ellipse fill=\"none\" stroke=\"black\" cx=\"46.2538\" cy=\"61.3315\" rx=\"27\" ry=\"18\"/>\n",
        "<text text-anchor=\"middle\" x=\"46.2538\" y=\"65.0315\" font-family=\"Times,serif\" font-size=\"14.00\">c</text>\n",
        "</g>\n",
        "<!-- b&#45;&#45;c -->\n",
        "<g id=\"edge2\" class=\"edge\"><title>b&#45;&#45;c</title>\n",
        "<path fill=\"none\" stroke=\"blue\" d=\"M13.724,18.0635C20.1006,26.545 27.6468,36.5823 33.865,44.8531\"/>\n",
        "</g>\n",
        "<!-- d -->\n",
        "<g id=\"node4\" class=\"node\"><title>d</title>\n",
        "<ellipse fill=\"none\" stroke=\"black\" cx=\"29.6619\" cy=\"-70.85\" rx=\"27\" ry=\"18\"/>\n",
        "<text text-anchor=\"middle\" x=\"29.6619\" y=\"-67.15\" font-family=\"Times,serif\" font-size=\"14.00\">d</text>\n",
        "</g>\n",
        "<!-- b&#45;&#45;d -->\n",
        "<g id=\"edge3\" class=\"edge\"><title>b&#45;&#45;d</title>\n",
        "<path fill=\"none\" stroke=\"black\" stroke-dasharray=\"1,5\" d=\"M7.74023,-18.2522C12.251,-29.075 17.9383,-42.721 22.3896,-53.4012\"/>\n",
        "</g>\n",
        "</g>\n",
        "</svg>\n"
       ],
       "text": [
        "Graph(Ptr{Void} @0x00007fe58e155040,false)"
       ]
      }
     ],
     "prompt_number": 1
    },
    {
     "cell_type": "code",
     "collapsed": false,
     "input": [
      "using Graphs\n",
      "g=simple_bull_graph()\n",
      "add_edge!(g,4,5)\n",
      "Base.show(g::AbstractGraph) = GraphViz.Graph(to_dot(g))"
     ],
     "language": "python",
     "metadata": {},
     "outputs": [
      {
       "output_type": "stream",
       "stream": "stderr",
       "text": [
        "Warning: using Graphs.Graph in module Main conflicts with an existing identifier.\n"
       ]
      },
      {
       "metadata": {},
       "output_type": "pyout",
       "prompt_number": 2,
       "text": [
        "show (generic function with 99 methods)"
       ]
      }
     ],
     "prompt_number": 2
    },
    {
     "cell_type": "code",
     "collapsed": false,
     "input": [
      "g=inclist(ExVertex, is_directed=true)\n",
      "v=add_vertex!(g, ExVertex(1, \"label1\"))\n",
      "add_vertex!(g, ExVertex(2, \"label2\"))\n",
      "add_edge!(g, vertices(g)[1], vertices(g)[2])\n",
      "attrs = attributes(vertices(g)[1], g)\n",
      "attrs[\"shape\"] = \"box\"\n",
      "attrs[\"label\"]=\"foo\"\n",
      "show(g)"
     ],
     "language": "python",
     "metadata": {},
     "outputs": [
      {
       "metadata": {},
       "output_type": "pyout",
       "png": "[encoded data removed]",
       "prompt_number": 3,
       "svg": [
        "<?xml version=\"1.0\" encoding=\"UTF-8\" standalone=\"no\"?>\n",
        "<!DOCTYPE svg PUBLIC \"-//W3C//DTD SVG 1.1//EN\"\n",
        " \"http://www.w3.org/Graphics/SVG/1.1/DTD/svg11.dtd\">\n",
        "<!-- Generated by graphviz version 2.38.0 (20140413.2041)\n",
        " -->\n",
        "<!-- Title: graphname Pages: 1 -->\n",
        "<svg width=\"133pt\" height=\"55pt\"\n",
        " viewBox=\"0.00 0.00 133.21 54.64\" xmlns=\"http://www.w3.org/2000/svg\" xmlns:xlink=\"http://www.w3.org/1999/xlink\">\n",
        "<g id=\"graph0\" class=\"graph\" transform=\"scale(1 1) rotate(0) translate(66.6048 27.3196)\">\n",
        "<title>graphname</title>\n",
        "<polygon fill=\"white\" stroke=\"none\" points=\"-66.6048,27.3196 -66.6048,-27.3196 66.6048,-27.3196 66.6048,27.3196 -66.6048,27.3196\"/>\n",
        "<!-- 1 -->\n",
        "<g id=\"node1\" class=\"node\"><title>1</title>\n",
        "<polygon fill=\"none\" stroke=\"black\" points=\"-8.60481,-23.3196 -62.6048,-23.3196 -62.6048,12.6804 -8.60481,12.6804 -8.60481,-23.3196\"/>\n",
        "<text text-anchor=\"middle\" x=\"-35.6048\" y=\"-1.61955\" font-family=\"Times,serif\" font-size=\"14.00\">foo</text>\n",
        "</g>\n",
        "<!-- 2 -->\n",
        "<g id=\"node2\" class=\"node\"><title>2</title>\n",
        "<ellipse fill=\"none\" stroke=\"black\" cx=\"35.6048\" cy=\"5.31955\" rx=\"27\" ry=\"18\"/>\n",
        "<text text-anchor=\"middle\" x=\"35.6048\" y=\"9.01955\" font-family=\"Times,serif\" font-size=\"14.00\">2</text>\n",
        "</g>\n",
        "<!-- 1&#45;&gt;2 -->\n",
        "<g id=\"edge1\" class=\"edge\"><title>1&#45;&gt;2</title>\n",
        "<path fill=\"none\" stroke=\"black\" d=\"M-8.27697,-1.23662C-5.89425,-0.880633 -3.45918,-0.51682 -1.01772,-0.152053\"/>\n",
        "<polygon fill=\"black\" stroke=\"black\" points=\"-0.435965,-3.60407 8.93705,1.33524 -1.47038,3.31909 -0.435965,-3.60407\"/>\n",
        "</g>\n",
        "</g>\n",
        "</svg>\n"
       ],
       "text": [
        "Graph(Ptr{Void} @0x00007fe58e5ef090,false)"
       ]
      }
     ],
     "prompt_number": 3
    },
    {
     "cell_type": "code",
     "collapsed": false,
     "input": [
      "typeof(g)"
     ],
     "language": "python",
     "metadata": {},
     "outputs": [
      {
       "metadata": {},
       "output_type": "pyout",
       "prompt_number": 4,
       "text": [
        "GenericIncidenceList{ExVertex,Edge{ExVertex},Array{ExVertex,1},Array{Array{Edge{ExVertex},1},1}} (constructor with 1 method)"
       ]
      }
     ],
     "prompt_number": 4
    },
    {
     "cell_type": "code",
     "collapsed": false,
     "input": [
      "label(v)=v.label\n",
      "vertex_labels(g) = [label(v) for v in vertices(g)]\n",
      "function add_exvertex!(g, name,shape)\n",
      "    verts = vertices(g)\n",
      "    vert_labels = [label(v) for v in verts]\n",
      "    if !(name in vert_labels)\n",
      "        v = ExVertex(num_vertices(g)+1, name)\n",
      "        attrs = attributes(v,g)\n",
      "        attrs[\"label\"]=name\n",
      "        attrs[\"shape\"]=shape\n",
      "        add_vertex!(g, v)\n",
      "        v\n",
      "    else\n",
      "        verts[indexin([name],vert_labels)]\n",
      "    end\n",
      "end\n",
      "add_p_in!(g,name)=add_exvertex!(g,name,\"doublecircle\")\n",
      "add_o_in!(g,name)=add_exvertex!(g,name,\"circle\")\n",
      "add_func!(g,name)=add_exvertex!(g,name,\"box\")\n",
      "function Graphs.add_edge!(g,label1, label2)\n",
      "    verts = vertices(g)\n",
      "    vert_labels = [label(v) for v in verts]\n",
      "    i1 = first(indexin([label1], vert_labels))\n",
      "    i2 = first(indexin([label2], vert_labels))\n",
      "    if i1 < 1 || i2 < 1\n",
      "        error(\"error label $label1 or $label2 is not in $g\")\n",
      "    end\n",
      "    add_edge!(g, verts[i1], verts[i2])\n",
      "end"
     ],
     "language": "python",
     "metadata": {},
     "outputs": [
      {
       "metadata": {},
       "output_type": "pyout",
       "prompt_number": 5,
       "text": [
        "add_edge! (generic function with 10 methods)"
       ]
      }
     ],
     "prompt_number": 5
    },
    {
     "cell_type": "code",
     "collapsed": false,
     "input": [
      "g=inclist(ExVertex, is_directed=true)\n",
      "add_p_in!(g,\"filt_value\")\n",
      "add_o_in!(g,\"good\")\n",
      "add_func!(g,\"select\")\n",
      "add_o_in!(g,\"selection_criteria\")\n",
      "add_edge!(g,\"filt_value\", \"select\")\n",
      "add_edge!(g,\"selection_criteria\",\"select\")\n",
      "add_edge!(g,\"select\",\"good\")"
     ],
     "language": "python",
     "metadata": {},
     "outputs": [],
     "prompt_number": 6
    },
    {
     "cell_type": "code",
     "collapsed": false,
     "input": [
      "attrs = AttributeDict()\n",
      "attrs[\"overlap\"]=\"false\"\n",
      "attrs[\"ratio\"]=\"auto\"\n",
      "gdot = to_dot(g, attrs)\n",
      "GraphViz.layout!(GraphViz.Graph(gdot),engine=\"dot\")\n",
      "gdot"
     ],
     "language": "python",
     "metadata": {},
     "outputs": [
      {
       "metadata": {},
       "output_type": "pyout",
       "prompt_number": 7,
       "text": [
        "\"digraph graphname {\\n\\\"ratio\\\"=\\\"auto\\\";\\n\\\"overlap\\\"=\\\"false\\\";\\n1 [\\\"label\\\"=\\\"filt_value\\\",\\\"shape\\\"=\\\"doublecircle\\\"]\\n1 -> 3\\n2 [\\\"label\\\"=\\\"good\\\",\\\"shape\\\"=\\\"circle\\\"]\\n3 [\\\"label\\\"=\\\"select\\\",\\\"shape\\\"=\\\"box\\\"]\\n3 -> 2\\n4 [\\\"label\\\"=\\\"selection_criteria\\\",\\\"shape\\\"=\\\"circle\\\"]\\n4 -> 3\\n}\\n\""
       ]
      }
     ],
     "prompt_number": 7
    },
    {
     "cell_type": "code",
     "collapsed": false,
     "input": [
      "s=\"digraph graphname {\\n\\\"overlap\\\"=\\\"false\\\";\\nratio=auto;\\n1 [\\\"label\\\"=\\\"filt_value\\\",\\\"shape\\\"=\\\"doublecircle\\\"]\\n1 -> 3\\n2 [\\\"label\\\"=\\\"good\\\",\\\"shape\\\"=\\\"circle\\\"]\\n3 [\\\"label\\\"=\\\"select\\\",\\\"shape\\\"=\\\"box\\\"]\\n3 -> 2\\n4 [\\\"label\\\"=\\\"selection_criteria\\\",\\\"shape\\\"=\\\"circle\\\"]\\n4 -> 3\\n}\\n\""
     ],
     "language": "python",
     "metadata": {},
     "outputs": [
      {
       "metadata": {},
       "output_type": "pyout",
       "prompt_number": 8,
       "text": [
        "\"digraph graphname {\\n\\\"overlap\\\"=\\\"false\\\";\\nratio=auto;\\n1 [\\\"label\\\"=\\\"filt_value\\\",\\\"shape\\\"=\\\"doublecircle\\\"]\\n1 -> 3\\n2 [\\\"label\\\"=\\\"good\\\",\\\"shape\\\"=\\\"circle\\\"]\\n3 [\\\"label\\\"=\\\"select\\\",\\\"shape\\\"=\\\"box\\\"]\\n3 -> 2\\n4 [\\\"label\\\"=\\\"selection_criteria\\\",\\\"shape\\\"=\\\"circle\\\"]\\n4 -> 3\\n}\\n\""
       ]
      }
     ],
     "prompt_number": 8
    },
    {
     "cell_type": "code",
     "collapsed": false,
     "input": [
      "Graph(gdot)"
     ],
     "language": "python",
     "metadata": {},
     "outputs": [
      {
       "metadata": {},
       "output_type": "pyout",
       "png": "[encoded data removed]",
       "prompt_number": 9,
       "svg": [
        "<?xml version=\"1.0\" encoding=\"UTF-8\" standalone=\"no\"?>\n",
        "<!DOCTYPE svg PUBLIC \"-//W3C//DTD SVG 1.1//EN\"\n",
        " \"http://www.w3.org/Graphics/SVG/1.1/DTD/svg11.dtd\">\n",
        "<!-- Generated by graphviz version 2.38.0 (20140413.2041)\n",
        " -->\n",
        "<!-- Title: graphname Pages: 1 -->\n",
        "<svg width=\"253pt\" height=\"274pt\"\n",
        " viewBox=\"0.00 0.00 252.86 274.10\" xmlns=\"http://www.w3.org/2000/svg\" xmlns:xlink=\"http://www.w3.org/1999/xlink\">\n",
        "<g id=\"graph0\" class=\"graph\" transform=\"scale(1 1) rotate(0) translate(4 270.099)\">\n",
        "<title>graphname</title>\n",
        "<polygon fill=\"white\" stroke=\"none\" points=\"-4,4 -4,-270.099 248.855,-270.099 248.855,4 -4,4\"/>\n",
        "<!-- 1 -->\n",
        "<g id=\"node1\" class=\"node\"><title>1</title>\n",
        "<ellipse fill=\"none\" stroke=\"black\" cx=\"48.846\" cy=\"-100.424\" rx=\"44.7051\" ry=\"44.7051\"/>\n",
        "<ellipse fill=\"none\" stroke=\"black\" cx=\"48.846\" cy=\"-100.424\" rx=\"48.6925\" ry=\"48.6925\"/>\n",
        "<text text-anchor=\"middle\" x=\"48.846\" y=\"-96.7242\" font-family=\"Times,serif\" font-size=\"14.00\">filt_value</text>\n",
        "</g>\n",
        "<!-- 3 -->\n",
        "<g id=\"node2\" class=\"node\"><title>3</title>\n",
        "<polygon fill=\"none\" stroke=\"black\" points=\"175.465,-105.948 121.465,-105.948 121.465,-69.9478 175.465,-69.9478 175.465,-105.948\"/>\n",
        "<text text-anchor=\"middle\" x=\"148.465\" y=\"-84.2478\" font-family=\"Times,serif\" font-size=\"14.00\">select</text>\n",
        "</g>\n",
        "<!-- 1&#45;&gt;3 -->\n",
        "<g id=\"edge1\" class=\"edge\"><title>1&#45;&gt;3</title>\n",
        "<path fill=\"none\" stroke=\"black\" d=\"M97.4882,-94.3322C102.1,-93.7546 106.725,-93.1754 111.205,-92.6143\"/>\n",
        "<polygon fill=\"black\" stroke=\"black\" points=\"111.834,-96.0629 121.322,-91.3473 110.964,-89.1172 111.834,-96.0629\"/>\n",
        "</g>\n",
        "<!-- 2 -->\n",
        "<g id=\"node3\" class=\"node\"><title>2</title>\n",
        "<ellipse fill=\"none\" stroke=\"black\" cx=\"200.812\" cy=\"-29.2474\" rx=\"29.4969\" ry=\"29.4969\"/>\n",
        "<text text-anchor=\"middle\" x=\"200.812\" y=\"-25.5474\" font-family=\"Times,serif\" font-size=\"14.00\">good</text>\n",
        "</g>\n",
        "<!-- 3&#45;&gt;2 -->\n",
        "<g id=\"edge2\" class=\"edge\"><title>3&#45;&gt;2</title>\n",
        "<path fill=\"none\" stroke=\"black\" d=\"M164.741,-69.6964C167.806,-66.2593 171.083,-62.5841 174.367,-58.9025\"/>\n",
        "<polygon fill=\"black\" stroke=\"black\" points=\"177.004,-61.2037 181.048,-51.4108 171.78,-56.5447 177.004,-61.2037\"/>\n",
        "</g>\n",
        "<!-- 4 -->\n",
        "<g id=\"node4\" class=\"node\"><title>4</title>\n",
        "<ellipse fill=\"none\" stroke=\"black\" cx=\"171.412\" cy=\"-192.655\" rx=\"73.387\" ry=\"73.387\"/>\n",
        "<text text-anchor=\"middle\" x=\"171.412\" y=\"-188.955\" font-family=\"Times,serif\" font-size=\"14.00\">selection_criteria</text>\n",
        "</g>\n",
        "<!-- 4&#45;&gt;3 -->\n",
        "<g id=\"edge3\" class=\"edge\"><title>4&#45;&gt;3</title>\n",
        "<path fill=\"none\" stroke=\"black\" d=\"M155.662,-120.791C155.301,-119.14 154.946,-117.52 154.599,-115.938\"/>\n",
        "<polygon fill=\"black\" stroke=\"black\" points=\"158.011,-115.155 152.451,-106.136 151.173,-116.653 158.011,-115.155\"/>\n",
        "</g>\n",
        "</g>\n",
        "</svg>\n"
       ],
       "text": [
        "Graph(Ptr{Void} @0x00007fe58e633c90,false)"
       ]
      }
     ],
     "prompt_number": 9
    }
   ],
   "metadata": {}
  }
 ]
}