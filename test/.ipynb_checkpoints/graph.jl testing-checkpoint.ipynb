{
 "metadata": {
  "language": "Julia",
  "name": "",
  "signature": "sha256:cea342cba95a43afb6540854e374ed1747d577b7b2b20c990c5328acfa9389d5"
 },
 "nbformat": 3,
 "nbformat_minor": 0,
 "worksheets": [
  {
   "cells": [
    {
     "cell_type": "code",
     "collapsed": false,
     "input": [
      "using GraphViz\n",
      "Graph(\"\"\"\n",
      "graph graphname {\n",
      "     // The label attribute can be used to change the label of a node\n",
      "     a [label=\"Foo\"];\n",
      "     // Here, the node shape is changed.\n",
      "     b [shape=box];\n",
      "     // These edges both have different line properties\n",
      "     a -- b -- c [color=blue];\n",
      "     b -- d [style=dotted];\n",
      " }\n",
      "\"\"\")"
     ],
     "language": "python",
     "metadata": {},
     "outputs": [
      {
       "metadata": {},
       "output_type": "pyout",
       "png": "[encoded data removed]",
       "prompt_number": 1,
       "svg": [
        "<?xml version=\"1.0\" encoding=\"UTF-8\" standalone=\"no\"?>\n",
        "<!DOCTYPE svg PUBLIC \"-//W3C//DTD SVG 1.1//EN\"\n",
        " \"http://www.w3.org/Graphics/SVG/1.1/DTD/svg11.dtd\">\n",
        "<!-- Generated by graphviz version 2.38.0 (20140413.2041)\n",
        " -->\n",
        "<!-- Title: graphname Pages: 1 -->\n",
        "<svg width=\"184pt\" height=\"176pt\"\n",
        " viewBox=\"0.00 0.00 184.31 176.18\" xmlns=\"http://www.w3.org/2000/svg\" xmlns:xlink=\"http://www.w3.org/1999/xlink\">\n",
        "<g id=\"graph0\" class=\"graph\" transform=\"scale(1 1) rotate(0) translate(107.053 92.85)\">\n",
        "<title>graphname</title>\n",
        "<polygon fill=\"white\" stroke=\"none\" points=\"-107.053,83.3315 -107.053,-92.85 77.2538,-92.85 77.2538,83.3315 -107.053,83.3315\"/>\n",
        "<!-- a -->\n",
        "<g id=\"node1\" class=\"node\"><title>a</title>\n",
        "<ellipse fill=\"none\" stroke=\"black\" cx=\"-76.0525\" cy=\"9.52734\" rx=\"27\" ry=\"18\"/>\n",
        "<text text-anchor=\"middle\" x=\"-76.0525\" y=\"13.2273\" font-family=\"Times,serif\" font-size=\"14.00\">Foo</text>\n",
        "</g>\n",
        "<!-- b -->\n",
        "<g id=\"node2\" class=\"node\"><title>b</title>\n",
        "<polygon fill=\"none\" stroke=\"black\" points=\"27.1368,-18.0088 -26.8632,-18.0088 -26.8632,17.9912 27.1368,17.9912 27.1368,-18.0088\"/>\n",
        "<text text-anchor=\"middle\" x=\"0.136761\" y=\"3.69119\" font-family=\"Times,serif\" font-size=\"14.00\">b</text>\n",
        "</g>\n",
        "<!-- a&#45;&#45;b -->\n",
        "<g id=\"edge1\" class=\"edge\"><title>a&#45;&#45;b</title>\n",
        "<path fill=\"none\" stroke=\"blue\" d=\"M-49.4052,6.19206C-42.1102,5.27899 -34.1978,4.28864 -26.8822,3.373\"/>\n",
        "</g>\n",
        "<!-- c -->\n",
        "<g id=\"node3\" class=\"node\"><title>c</title>\n",
        "<ellipse fill=\"none\" stroke=\"black\" cx=\"46.2538\" cy=\"61.3315\" rx=\"27\" ry=\"18\"/>\n",
        "<text text-anchor=\"middle\" x=\"46.2538\" y=\"65.0315\" font-family=\"Times,serif\" font-size=\"14.00\">c</text>\n",
        "</g>\n",
        "<!-- b&#45;&#45;c -->\n",
        "<g id=\"edge2\" class=\"edge\"><title>b&#45;&#45;c</title>\n",
        "<path fill=\"none\" stroke=\"blue\" d=\"M13.724,18.0635C20.1006,26.545 27.6468,36.5823 33.865,44.8531\"/>\n",
        "</g>\n",
        "<!-- d -->\n",
        "<g id=\"node4\" class=\"node\"><title>d</title>\n",
        "<ellipse fill=\"none\" stroke=\"black\" cx=\"29.6619\" cy=\"-70.85\" rx=\"27\" ry=\"18\"/>\n",
        "<text text-anchor=\"middle\" x=\"29.6619\" y=\"-67.15\" font-family=\"Times,serif\" font-size=\"14.00\">d</text>\n",
        "</g>\n",
        "<!-- b&#45;&#45;d -->\n",
        "<g id=\"edge3\" class=\"edge\"><title>b&#45;&#45;d</title>\n",
        "<path fill=\"none\" stroke=\"black\" stroke-dasharray=\"1,5\" d=\"M7.74023,-18.2522C12.251,-29.075 17.9383,-42.721 22.3896,-53.4012\"/>\n",
        "</g>\n",
        "</g>\n",
        "</svg>\n"
       ],
       "text": [
        "Graph(Ptr{Void} @0x00007f9d43f49560,false)"
       ]
      }
     ],
     "prompt_number": 1
    },
    {
     "cell_type": "code",
     "collapsed": false,
     "input": [
      "using Graphs\n",
      "g=simple_bull_graph()\n",
      "add_edge!(g,4,5)\n",
      "Base.show(g::AbstractGraph) = GraphViz.Graph(to_dot(g))"
     ],
     "language": "python",
     "metadata": {},
     "outputs": [
      {
       "output_type": "stream",
       "stream": "stderr",
       "text": [
        "Warning: using Graphs.Graph in module Main conflicts with an existing identifier.\n"
       ]
      },
      {
       "metadata": {},
       "output_type": "pyout",
       "prompt_number": 2,
       "text": [
        "show (generic function with 99 methods)"
       ]
      }
     ],
     "prompt_number": 2
    },
    {
     "cell_type": "code",
     "collapsed": false,
     "input": [
      "g=inclist(ExVertex, is_directed=true)\n",
      "v=add_vertex!(g, ExVertex(1, \"label1\"))\n",
      "add_vertex!(g, ExVertex(2, \"label2\"))\n",
      "add_edge!(g, vertices(g)[1], vertices(g)[2])\n",
      "attrs = attributes(vertices(g)[1], g)\n",
      "attrs[\"shape\"] = \"box\"\n",
      "attrs[\"label\"]=\"foo\"\n",
      "show(g)"
     ],
     "language": "python",
     "metadata": {},
     "outputs": [
      {
       "metadata": {},
       "output_type": "pyout",
       "png": "[encoded data removed]",
       "prompt_number": 3,
       "svg": [
        "<?xml version=\"1.0\" encoding=\"UTF-8\" standalone=\"no\"?>\n",
        "<!DOCTYPE svg PUBLIC \"-//W3C//DTD SVG 1.1//EN\"\n",
        " \"http://www.w3.org/Graphics/SVG/1.1/DTD/svg11.dtd\">\n",
        "<!-- Generated by graphviz version 2.38.0 (20140413.2041)\n",
        " -->\n",
        "<!-- Title: graphname Pages: 1 -->\n",
        "<svg width=\"133pt\" height=\"55pt\"\n",
        " viewBox=\"0.00 0.00 133.21 54.64\" xmlns=\"http://www.w3.org/2000/svg\" xmlns:xlink=\"http://www.w3.org/1999/xlink\">\n",
        "<g id=\"graph0\" class=\"graph\" transform=\"scale(1 1) rotate(0) translate(66.6048 27.3196)\">\n",
        "<title>graphname</title>\n",
        "<polygon fill=\"white\" stroke=\"none\" points=\"-66.6048,27.3196 -66.6048,-27.3196 66.6048,-27.3196 66.6048,27.3196 -66.6048,27.3196\"/>\n",
        "<!-- 1 -->\n",
        "<g id=\"node1\" class=\"node\"><title>1</title>\n",
        "<polygon fill=\"none\" stroke=\"black\" points=\"-8.60481,-23.3196 -62.6048,-23.3196 -62.6048,12.6804 -8.60481,12.6804 -8.60481,-23.3196\"/>\n",
        "<text text-anchor=\"middle\" x=\"-35.6048\" y=\"-1.61955\" font-family=\"Times,serif\" font-size=\"14.00\">foo</text>\n",
        "</g>\n",
        "<!-- 2 -->\n",
        "<g id=\"node2\" class=\"node\"><title>2</title>\n",
        "<ellipse fill=\"none\" stroke=\"black\" cx=\"35.6048\" cy=\"5.31955\" rx=\"27\" ry=\"18\"/>\n",
        "<text text-anchor=\"middle\" x=\"35.6048\" y=\"9.01955\" font-family=\"Times,serif\" font-size=\"14.00\">2</text>\n",
        "</g>\n",
        "<!-- 1&#45;&gt;2 -->\n",
        "<g id=\"edge1\" class=\"edge\"><title>1&#45;&gt;2</title>\n",
        "<path fill=\"none\" stroke=\"black\" d=\"M-8.27697,-1.23662C-5.89425,-0.880633 -3.45918,-0.51682 -1.01772,-0.152053\"/>\n",
        "<polygon fill=\"black\" stroke=\"black\" points=\"-0.435965,-3.60407 8.93705,1.33524 -1.47038,3.31909 -0.435965,-3.60407\"/>\n",
        "</g>\n",
        "</g>\n",
        "</svg>\n"
       ],
       "text": [
        "Graph(Ptr{Void} @0x00007f9d4c5a29e0,false)"
       ]
      }
     ],
     "prompt_number": 3
    },
    {
     "cell_type": "code",
     "collapsed": false,
     "input": [
      "typeof(g)"
     ],
     "language": "python",
     "metadata": {},
     "outputs": [
      {
       "metadata": {},
       "output_type": "pyout",
       "prompt_number": 4,
       "text": [
        "GenericIncidenceList{ExVertex,Edge{ExVertex},Array{ExVertex,1},Array{Array{Edge{ExVertex},1},1}} (constructor with 1 method)"
       ]
      }
     ],
     "prompt_number": 4
    },
    {
     "cell_type": "code",
     "collapsed": false,
     "input": [
      "label(v)=v.label\n",
      "vertex_labels(g) = [label(v) for v in vertices(g)]\n",
      "function add_exvertex!(g, name,shape)\n",
      "    verts = vertices(g)\n",
      "    vert_labels = [label(v) for v in verts]\n",
      "    if !(name in vert_labels)\n",
      "        v = ExVertex(num_vertices(g)+1, name)\n",
      "        attrs = attributes(v,g)\n",
      "        attrs[\"label\"]=name\n",
      "        attrs[\"shape\"]=shape\n",
      "        add_vertex!(g, v)\n",
      "        v\n",
      "    else\n",
      "        verts[indexin([name],vert_labels)]\n",
      "    end\n",
      "end\n",
      "add_p_in!(g,name)=add_exvertex!(g,name,\"doublecircle\")\n",
      "add_o_in!(g,name)=add_exvertex!(g,name,\"circle\")\n",
      "add_func!(g,name)=add_exvertex!(g,name,\"box\")\n",
      "function Graphs.add_edge!(g,label1, label2)\n",
      "    verts = vertices(g)\n",
      "    vert_labels = [label(v) for v in verts]\n",
      "    i1 = first(indexin([label1], vert_labels))\n",
      "    i2 = first(indexin([label2], vert_labels))\n",
      "    if i1 < 1 || i2 < 1\n",
      "        error(\"error label $label1 or $label2 is not in $g\")\n",
      "    end\n",
      "    add_edge!(g, verts[i1], verts[i2])\n",
      "end"
     ],
     "language": "python",
     "metadata": {},
     "outputs": [
      {
       "metadata": {},
       "output_type": "pyout",
       "prompt_number": 5,
       "text": [
        "add_edge! (generic function with 10 methods)"
       ]
      }
     ],
     "prompt_number": 5
    },
    {
     "cell_type": "code",
     "collapsed": false,
     "input": [
      "g=inclist(ExVertex, is_directed=true)\n",
      "add_p_in!(g,\"filt_value\")\n",
      "add_o_in!(g,\"good\")\n",
      "add_func!(g,\"select\")\n",
      "add_o_in!(g,\"selection_criteria\")\n",
      "add_edge!(g,\"filt_value\", \"select\")"
     ],
     "language": "python",
     "metadata": {},
     "outputs": [],
     "prompt_number": 7
    },
    {
     "cell_type": "code",
     "collapsed": false,
     "input": [],
     "language": "python",
     "metadata": {},
     "outputs": []
    }
   ],
   "metadata": {}
  }
 ]
}