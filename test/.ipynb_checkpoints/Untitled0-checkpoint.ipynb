{
 "metadata": {
  "name": "",
  "signature": "sha256:4a9f89ba8755b0ed9a3792c9f3ef31e5cd053b479e1dd50ad45b020fc7239ff2"
 },
 "nbformat": 3,
 "nbformat_minor": 0,
 "worksheets": []
}