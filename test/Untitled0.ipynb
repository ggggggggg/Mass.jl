{
 "metadata": {
  "language": "Julia",
  "name": "",
  "signature": "sha256:7a836c47454b659f5970f369ca8843bda2d606f7582895d16df94c72bf177fe3"
 },
 "nbformat": 3,
 "nbformat_minor": 0,
 "worksheets": [
  {
   "cells": [
    {
     "cell_type": "code",
     "collapsed": false,
     "input": [
      "using TikzGraphs\n",
      "using TikzPictures\n",
      "using Graphs\n",
      "g = simple_graph(4)\n",
      "add_edge!(g, 1, 2)\n",
      "add_edge!(g, 2, 3)\n",
      "add_edge!(g, 3, 4)\n",
      "add_edge!(g, 1, 4)\n",
      "TikzGraphs.plot(g) # You can just use plot(g) if TikzGraphs was loaded after Graphs"
     ],
     "language": "python",
     "metadata": {},
     "outputs": [
      {
       "ename": "LoadError",
       "evalue": "TikzGraphs not found\nwhile loading In[2], in expression starting on line 1",
       "output_type": "pyerr",
       "traceback": [
        "TikzGraphs not found\nwhile loading In[2], in expression starting on line 1",
        "",
        " in require at loading.jl:47"
       ]
      }
     ],
     "prompt_number": 2
    },
    {
     "cell_type": "code",
     "collapsed": false,
     "input": [
      "Pkg.add(\"TikzPictures\")"
     ],
     "language": "python",
     "metadata": {},
     "outputs": [
      {
       "output_type": "stream",
       "stream": "stderr",
       "text": [
        "INFO: No packages to install, update or remove\n",
        "INFO: Package database updated\n"
       ]
      },
      {
       "output_type": "stream",
       "stream": "stderr",
       "text": [
        "INFO: METADATA is out-of-date \u2014 you may not have the latest version of TikzPictures\n",
        "INFO: Use `Pkg.update()` to get the latest versions of your packages\n"
       ]
      }
     ],
     "prompt_number": 4
    }
   ],
   "metadata": {}
  }
 ]
}